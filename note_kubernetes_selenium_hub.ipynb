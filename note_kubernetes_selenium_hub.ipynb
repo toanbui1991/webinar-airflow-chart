{
 "cells": [
  {
   "cell_type": "code",
   "execution_count": null,
   "metadata": {},
   "outputs": [],
   "source": [
    "# This reading section is follow this link: https://sahajamit.medium.com/spinning-up-your-own-scalable-selenium-grid-in-kubernetes-part-1-e4017bac68f4\n",
    "\n",
    "#step one: start a kubernetes cluster with minikube command: minikube start --vm-driver=docker --insecure-registry=\"gcr.io\"\n",
    "#step two: start management ui of minikube with command: minikube dashboard\n",
    "\n",
    "#step three: define serive and deployment for selenium hub deployment:\n",
    "    #service: service is about how to access service and how service can access pod.\n",
    "        #selector: how to select pods in the kubernes. pod will have labels.app and then service will have selector.app if match choose those pod\n",
    "        #targetPort: target port on port\n",
    "        #port: is the port which outside can communicate with service\n",
    "        #in this example, service is open with two port 5555 and 4444\n",
    "    #deployment: deployment is about pod template and how to select those pods.\n",
    "        #important information is to define container with image\n",
    "\n",
    "#step four: deploy those definition with command: kubectl apply -f kubernetes_selenium/selenium-hub-deployment.yaml\n",
    "#check the deployment and service which have selector is or label query is selenium-hub with command: kubectl get all -l name=selenium-hub\n",
    "\n",
    "#step five: expose deployment with command: kubectl expose deployment selenium-hub-deployment --type NodePort --port 4444\n",
    "\n",
    "#step six: get the url of the serive with command: minikube service selenium-hub-deployment --url\n",
    "\n",
    "#step seven: enable ingress in minikube with command: minikube addons enable ingress\n",
    "\n",
    "#step eight: define ingress with selenium-hub-deployement-ingress.yaml\n",
    "\n",
    "#step nine: apply ingress in minikube with command: kubectl apply -f kubernetes_selenium/selenium-hub-deployement-ingress.yaml   \n",
    "\n",
    "#step ten: add or change local dns mapping between serice address to a domain name by edit /etc/hosts\n",
    "\n",
    "#step eleven: define deployment from selenium-chrom node with selenium-node-chrome-deployment.yaml.\n",
    "\n",
    "#step twelve: apply deployment with command: kubectl apply -f kubernetes_selenium/selenium-node-chrome-deployment.yaml   \n",
    "\n",
    "#step thirteen: check all the object with command: kubectl get all.\n",
    "\n",
    "#step fourteen: scale container chrome node with command: kubectl scale deployment.apps/selenium-node-chrome-deployment --replicas=2\n",
    "\n",
    "#step fifteen: create service account: auto-scale-robot-sa.yaml\n",
    "\n",
    "#step sixteen: role and rolebinding: file-auto-scale-robot-role.yaml, auto-scale-robot-rb.yaml\n",
    "\n",
    "#step seventeen: apply sa, role, rb with command: \n",
    "    kubectl create -f kubernetes_selenium/auto-scale-robot-sa.yaml && \\\n",
    "    kubectl create -f kubernetes_selenium/auto-scale-robot-role.yaml && \\\n",
    "    kubectl create -f kubernetes_selenium/auto-scale-robot-rb.yaml\n",
    "\n",
    "#step eighteen: get serviceaccount toke with command: kubectl get serviceaccounts auto-scale-robot-sa -o yaml\n",
    "\n",
    "#step nineteen: given the secrets of service account get token: kubectl describe secrets/auto-scale-robot-sa-token-j9v2n"
   ]
  },
  {
   "cell_type": "code",
   "execution_count": null,
   "metadata": {},
   "outputs": [],
   "source": [
    "#Note about rbac (role base access control) in kubernetes\n",
    "    #service account (sa): define who you are as a machine or service\n",
    "    #role: what can action on what resource with namespace\n",
    "    #rolebinding: bind between service account and role\n",
    "    #clusterrole: what action can be execute on cluster (all namespace)\n",
    "    #cluster role binding: service account and cluster role"
   ]
  }
 ],
 "metadata": {
  "language_info": {
   "name": "python"
  },
  "orig_nbformat": 4
 },
 "nbformat": 4,
 "nbformat_minor": 2
}
