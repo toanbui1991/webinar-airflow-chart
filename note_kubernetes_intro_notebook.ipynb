{
 "cells": [
  {
   "cell_type": "code",
   "execution_count": 4,
   "metadata": {},
   "outputs": [],
   "source": [
    "\n",
    "from kubernetes import client, config"
   ]
  },
  {
   "cell_type": "markdown",
   "metadata": {},
   "source": [
    "##### Load config from default location."
   ]
  },
  {
   "cell_type": "code",
   "execution_count": 5,
   "metadata": {},
   "outputs": [],
   "source": [
    "config.load_kube_config()"
   ]
  },
  {
   "cell_type": "markdown",
   "metadata": {},
   "source": [
    "##### Create API endpoint instance as well as API resource instances (body and specification)."
   ]
  },
  {
   "cell_type": "code",
   "execution_count": 6,
   "metadata": {},
   "outputs": [
    {
     "ename": "ValueError",
     "evalue": "Invalid value for `selector`, must not be `None`",
     "output_type": "error",
     "traceback": [
      "\u001b[0;31m---------------------------------------------------------------------------\u001b[0m",
      "\u001b[0;31mValueError\u001b[0m                                Traceback (most recent call last)",
      "\u001b[1;32m/root/toanbui1991/python/webinar-airflow-chart/note_kubernetes_intro_notebook.ipynb Cell 5'\u001b[0m in \u001b[0;36m<cell line: 3>\u001b[0;34m()\u001b[0m\n\u001b[1;32m      <a href='vscode-notebook-cell://wsl%2Bubuntu/root/toanbui1991/python/webinar-airflow-chart/note_kubernetes_intro_notebook.ipynb#ch0000005vscode-remote?line=0'>1</a>\u001b[0m api_instance \u001b[39m=\u001b[39m client\u001b[39m.\u001b[39mAppsV1Api()\n\u001b[1;32m      <a href='vscode-notebook-cell://wsl%2Bubuntu/root/toanbui1991/python/webinar-airflow-chart/note_kubernetes_intro_notebook.ipynb#ch0000005vscode-remote?line=1'>2</a>\u001b[0m dep \u001b[39m=\u001b[39m client\u001b[39m.\u001b[39mV1Deployment()\n\u001b[0;32m----> <a href='vscode-notebook-cell://wsl%2Bubuntu/root/toanbui1991/python/webinar-airflow-chart/note_kubernetes_intro_notebook.ipynb#ch0000005vscode-remote?line=2'>3</a>\u001b[0m spec \u001b[39m=\u001b[39m client\u001b[39m.\u001b[39;49mV1DeploymentSpec()\n",
      "File \u001b[0;32m~/toanbui1991/python/webinar-airflow-chart/venv/lib/python3.8/site-packages/kubernetes/client/models/v1_deployment_spec.py:83\u001b[0m, in \u001b[0;36mV1DeploymentSpec.__init__\u001b[0;34m(self, min_ready_seconds, paused, progress_deadline_seconds, replicas, revision_history_limit, selector, strategy, template, local_vars_configuration)\u001b[0m\n\u001b[1;32m     81\u001b[0m \u001b[39mif\u001b[39;00m revision_history_limit \u001b[39mis\u001b[39;00m \u001b[39mnot\u001b[39;00m \u001b[39mNone\u001b[39;00m:\n\u001b[1;32m     82\u001b[0m     \u001b[39mself\u001b[39m\u001b[39m.\u001b[39mrevision_history_limit \u001b[39m=\u001b[39m revision_history_limit\n\u001b[0;32m---> 83\u001b[0m \u001b[39mself\u001b[39m\u001b[39m.\u001b[39mselector \u001b[39m=\u001b[39m selector\n\u001b[1;32m     84\u001b[0m \u001b[39mif\u001b[39;00m strategy \u001b[39mis\u001b[39;00m \u001b[39mnot\u001b[39;00m \u001b[39mNone\u001b[39;00m:\n\u001b[1;32m     85\u001b[0m     \u001b[39mself\u001b[39m\u001b[39m.\u001b[39mstrategy \u001b[39m=\u001b[39m strategy\n",
      "File \u001b[0;32m~/toanbui1991/python/webinar-airflow-chart/venv/lib/python3.8/site-packages/kubernetes/client/models/v1_deployment_spec.py:222\u001b[0m, in \u001b[0;36mV1DeploymentSpec.selector\u001b[0;34m(self, selector)\u001b[0m\n\u001b[1;32m    215\u001b[0m \u001b[39m\"\"\"Sets the selector of this V1DeploymentSpec.\u001b[39;00m\n\u001b[1;32m    216\u001b[0m \n\u001b[1;32m    217\u001b[0m \n\u001b[1;32m    218\u001b[0m \u001b[39m:param selector: The selector of this V1DeploymentSpec.  # noqa: E501\u001b[39;00m\n\u001b[1;32m    219\u001b[0m \u001b[39m:type: V1LabelSelector\u001b[39;00m\n\u001b[1;32m    220\u001b[0m \u001b[39m\"\"\"\u001b[39;00m\n\u001b[1;32m    221\u001b[0m \u001b[39mif\u001b[39;00m \u001b[39mself\u001b[39m\u001b[39m.\u001b[39mlocal_vars_configuration\u001b[39m.\u001b[39mclient_side_validation \u001b[39mand\u001b[39;00m selector \u001b[39mis\u001b[39;00m \u001b[39mNone\u001b[39;00m:  \u001b[39m# noqa: E501\u001b[39;00m\n\u001b[0;32m--> 222\u001b[0m     \u001b[39mraise\u001b[39;00m \u001b[39mValueError\u001b[39;00m(\u001b[39m\"\u001b[39m\u001b[39mInvalid value for `selector`, must not be `None`\u001b[39m\u001b[39m\"\u001b[39m)  \u001b[39m# noqa: E501\u001b[39;00m\n\u001b[1;32m    224\u001b[0m \u001b[39mself\u001b[39m\u001b[39m.\u001b[39m_selector \u001b[39m=\u001b[39m selector\n",
      "\u001b[0;31mValueError\u001b[0m: Invalid value for `selector`, must not be `None`"
     ]
    }
   ],
   "source": [
    "api_instance = client.AppsV1Api()\n",
    "dep = client.V1Deployment()\n",
    "spec = client.V1DeploymentSpec(selector='')"
   ]
  }
 ],
 "metadata": {
  "kernelspec": {
   "display_name": "Python 3.8.10 ('venv': venv)",
   "language": "python",
   "name": "python3"
  },
  "language_info": {
   "codemirror_mode": {
    "name": "ipython",
    "version": 3
   },
   "file_extension": ".py",
   "mimetype": "text/x-python",
   "name": "python",
   "nbconvert_exporter": "python",
   "pygments_lexer": "ipython3",
   "version": "3.8.10"
  },
  "orig_nbformat": 4,
  "vscode": {
   "interpreter": {
    "hash": "03a990373b603ebeb45578ad17a698bda260357bc2b5aca13546ed815873c80b"
   }
  }
 },
 "nbformat": 4,
 "nbformat_minor": 2
}
