{
 "cells": [
  {
   "cell_type": "code",
   "execution_count": 4,
   "metadata": {},
   "outputs": [],
   "source": [
    "\n",
    "from kubernetes import client, config"
   ]
  },
  {
   "cell_type": "markdown",
   "metadata": {},
   "source": [
    "##### Load config from default location."
   ]
  },
  {
   "cell_type": "code",
   "execution_count": 5,
   "metadata": {},
   "outputs": [],
   "source": [
    "config.load_kube_config()"
   ]
  },
  {
   "cell_type": "markdown",
   "metadata": {},
   "source": [
    "##### Create API endpoint instance as well as API resource instances (body and specification)."
   ]
  },
  {
   "cell_type": "code",
   "execution_count": 9,
   "metadata": {},
   "outputs": [],
   "source": [
    "api_instance = client.AppsV1Api()\n",
    "dep = client.V1Deployment()\n",
    "spec = client.V1DeploymentSpec(\n",
    "    selector=client.V1LabelSelector(match_labels={\"app\":\"busybox\"}),\n",
    "    template=client.V1PodTemplateSpec(),\n",
    ")"
   ]
  },
  {
   "cell_type": "markdown",
   "metadata": {},
   "source": [
    "##### Fill required object fields (apiVersion, kind, metadata and spec)."
   ]
  },
  {
   "cell_type": "code",
   "execution_count": 11,
   "metadata": {},
   "outputs": [
    {
     "ename": "ValueError",
     "evalue": "Invalid value for `containers`, must not be `None`",
     "output_type": "error",
     "traceback": [
      "\u001b[0;31m---------------------------------------------------------------------------\u001b[0m",
      "\u001b[0;31mValueError\u001b[0m                                Traceback (most recent call last)",
      "\u001b[1;32m/root/toanbui1991/python/webinar-airflow-chart/note_kubernetes_intro_notebook.ipynb Cell 7'\u001b[0m in \u001b[0;36m<cell line: 7>\u001b[0;34m()\u001b[0m\n\u001b[1;32m      <a href='vscode-notebook-cell://wsl%2Bubuntu/root/toanbui1991/python/webinar-airflow-chart/note_kubernetes_intro_notebook.ipynb#ch0000006vscode-remote?line=4'>5</a>\u001b[0m spec\u001b[39m.\u001b[39mtemplate\u001b[39m.\u001b[39mmetadata \u001b[39m=\u001b[39m  client\u001b[39m.\u001b[39mV1ObjectMeta(name\u001b[39m=\u001b[39m\u001b[39m\"\u001b[39m\u001b[39mbusybox\u001b[39m\u001b[39m\"\u001b[39m)\n\u001b[1;32m      <a href='vscode-notebook-cell://wsl%2Bubuntu/root/toanbui1991/python/webinar-airflow-chart/note_kubernetes_intro_notebook.ipynb#ch0000006vscode-remote?line=5'>6</a>\u001b[0m spec\u001b[39m.\u001b[39mtemplate\u001b[39m.\u001b[39mmetadata\u001b[39m.\u001b[39mlabels \u001b[39m=\u001b[39m {\u001b[39m\"\u001b[39m\u001b[39mapp\u001b[39m\u001b[39m\"\u001b[39m:\u001b[39m\"\u001b[39m\u001b[39mbusybox\u001b[39m\u001b[39m\"\u001b[39m}\n\u001b[0;32m----> <a href='vscode-notebook-cell://wsl%2Bubuntu/root/toanbui1991/python/webinar-airflow-chart/note_kubernetes_intro_notebook.ipynb#ch0000006vscode-remote?line=6'>7</a>\u001b[0m spec\u001b[39m.\u001b[39mtemplate\u001b[39m.\u001b[39mspec \u001b[39m=\u001b[39m client\u001b[39m.\u001b[39;49mV1PodSpec()\n\u001b[1;32m      <a href='vscode-notebook-cell://wsl%2Bubuntu/root/toanbui1991/python/webinar-airflow-chart/note_kubernetes_intro_notebook.ipynb#ch0000006vscode-remote?line=7'>8</a>\u001b[0m dep\u001b[39m.\u001b[39mspec \u001b[39m=\u001b[39m spec\n\u001b[1;32m     <a href='vscode-notebook-cell://wsl%2Bubuntu/root/toanbui1991/python/webinar-airflow-chart/note_kubernetes_intro_notebook.ipynb#ch0000006vscode-remote?line=9'>10</a>\u001b[0m container \u001b[39m=\u001b[39m client\u001b[39m.\u001b[39mV1Container(image\u001b[39m=\u001b[39m\u001b[39m\"\u001b[39m\u001b[39mbusybox:1.26.1\u001b[39m\u001b[39m\"\u001b[39m)\n",
      "File \u001b[0;32m~/toanbui1991/python/webinar-airflow-chart/venv/lib/python3.8/site-packages/kubernetes/client/models/v1_pod_spec.py:163\u001b[0m, in \u001b[0;36mV1PodSpec.__init__\u001b[0;34m(self, active_deadline_seconds, affinity, automount_service_account_token, containers, dns_config, dns_policy, enable_service_links, ephemeral_containers, host_aliases, host_ipc, host_network, host_pid, hostname, image_pull_secrets, init_containers, node_name, node_selector, os, overhead, preemption_policy, priority, priority_class_name, readiness_gates, restart_policy, runtime_class_name, scheduler_name, security_context, service_account, service_account_name, set_hostname_as_fqdn, share_process_namespace, subdomain, termination_grace_period_seconds, tolerations, topology_spread_constraints, volumes, local_vars_configuration)\u001b[0m\n\u001b[1;32m    161\u001b[0m \u001b[39mif\u001b[39;00m automount_service_account_token \u001b[39mis\u001b[39;00m \u001b[39mnot\u001b[39;00m \u001b[39mNone\u001b[39;00m:\n\u001b[1;32m    162\u001b[0m     \u001b[39mself\u001b[39m\u001b[39m.\u001b[39mautomount_service_account_token \u001b[39m=\u001b[39m automount_service_account_token\n\u001b[0;32m--> 163\u001b[0m \u001b[39mself\u001b[39m\u001b[39m.\u001b[39mcontainers \u001b[39m=\u001b[39m containers\n\u001b[1;32m    164\u001b[0m \u001b[39mif\u001b[39;00m dns_config \u001b[39mis\u001b[39;00m \u001b[39mnot\u001b[39;00m \u001b[39mNone\u001b[39;00m:\n\u001b[1;32m    165\u001b[0m     \u001b[39mself\u001b[39m\u001b[39m.\u001b[39mdns_config \u001b[39m=\u001b[39m dns_config\n",
      "File \u001b[0;32m~/toanbui1991/python/webinar-airflow-chart/venv/lib/python3.8/site-packages/kubernetes/client/models/v1_pod_spec.py:317\u001b[0m, in \u001b[0;36mV1PodSpec.containers\u001b[0;34m(self, containers)\u001b[0m\n\u001b[1;32m    309\u001b[0m \u001b[39m\"\"\"Sets the containers of this V1PodSpec.\u001b[39;00m\n\u001b[1;32m    310\u001b[0m \n\u001b[1;32m    311\u001b[0m \u001b[39mList of containers belonging to the pod. Containers cannot currently be added or removed. There must be at least one container in a Pod. Cannot be updated.  # noqa: E501\u001b[39;00m\n\u001b[0;32m   (...)\u001b[0m\n\u001b[1;32m    314\u001b[0m \u001b[39m:type: list[V1Container]\u001b[39;00m\n\u001b[1;32m    315\u001b[0m \u001b[39m\"\"\"\u001b[39;00m\n\u001b[1;32m    316\u001b[0m \u001b[39mif\u001b[39;00m \u001b[39mself\u001b[39m\u001b[39m.\u001b[39mlocal_vars_configuration\u001b[39m.\u001b[39mclient_side_validation \u001b[39mand\u001b[39;00m containers \u001b[39mis\u001b[39;00m \u001b[39mNone\u001b[39;00m:  \u001b[39m# noqa: E501\u001b[39;00m\n\u001b[0;32m--> 317\u001b[0m     \u001b[39mraise\u001b[39;00m \u001b[39mValueError\u001b[39;00m(\u001b[39m\"\u001b[39m\u001b[39mInvalid value for `containers`, must not be `None`\u001b[39m\u001b[39m\"\u001b[39m)  \u001b[39m# noqa: E501\u001b[39;00m\n\u001b[1;32m    319\u001b[0m \u001b[39mself\u001b[39m\u001b[39m.\u001b[39m_containers \u001b[39m=\u001b[39m containers\n",
      "\u001b[0;31mValueError\u001b[0m: Invalid value for `containers`, must not be `None`"
     ]
    }
   ],
   "source": [
    "name = \"my-busybox\"\n",
    "dep.metadata = client.V1ObjectMeta(name=name)\n",
    "\n",
    "spec.template = client.V1PodTemplateSpec()\n",
    "spec.template.metadata =  client.V1ObjectMeta(name=\"busybox\")\n",
    "spec.template.metadata.labels = {\"app\":\"busybox\"}\n",
    "spec.template.spec = client.V1PodSpec()\n",
    "dep.spec = spec\n",
    "\n",
    "container = client.V1Container(image=\"busybox:1.26.1\")\n",
    "# container.image = \"busybox:1.26.1\"\n",
    "container.args = [\"sleep\", \"3600\"]\n",
    "container.name = name\n",
    "spec.template.spec.containers = [container]"
   ]
  }
 ],
 "metadata": {
  "kernelspec": {
   "display_name": "Python 3.8.10 ('venv': venv)",
   "language": "python",
   "name": "python3"
  },
  "language_info": {
   "codemirror_mode": {
    "name": "ipython",
    "version": 3
   },
   "file_extension": ".py",
   "mimetype": "text/x-python",
   "name": "python",
   "nbconvert_exporter": "python",
   "pygments_lexer": "ipython3",
   "version": "3.8.10"
  },
  "orig_nbformat": 4,
  "vscode": {
   "interpreter": {
    "hash": "03a990373b603ebeb45578ad17a698bda260357bc2b5aca13546ed815873c80b"
   }
  }
 },
 "nbformat": 4,
 "nbformat_minor": 2
}
